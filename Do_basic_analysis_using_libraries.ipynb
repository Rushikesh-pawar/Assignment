{
  "nbformat": 4,
  "nbformat_minor": 0,
  "metadata": {
    "colab": {
      "name": "Do basic analysis using libraries.ipynb",
      "provenance": [],
      "collapsed_sections": [],
      "authorship_tag": "ABX9TyN6E9BIA8Q22SEDpj1H1hRg",
      "include_colab_link": true
    },
    "kernelspec": {
      "name": "python3",
      "display_name": "Python 3"
    },
    "language_info": {
      "name": "python"
    }
  },
  "cells": [
    {
      "cell_type": "markdown",
      "metadata": {
        "id": "view-in-github",
        "colab_type": "text"
      },
      "source": [
        "<a href=\"https://colab.research.google.com/github/Rushikesh-pawar/Assignment/blob/main/Do_basic_analysis_using_libraries.ipynb\" target=\"_parent\"><img src=\"https://colab.research.google.com/assets/colab-badge.svg\" alt=\"Open In Colab\"/></a>"
      ]
    },
    {
      "cell_type": "code",
      "execution_count": 71,
      "metadata": {
        "colab": {
          "base_uri": "https://localhost:8080/"
        },
        "id": "rpKyT6mpMm1Z",
        "outputId": "c286d9d2-e1bc-4d1a-cf8a-a7f7229990b9"
      },
      "outputs": [
        {
          "output_type": "stream",
          "name": "stdout",
          "text": [
            "[nltk_data] Downloading package stopwords to /root/nltk_data...\n",
            "[nltk_data]   Package stopwords is already up-to-date!\n",
            "[nltk_data] Downloading package punkt to /root/nltk_data...\n",
            "[nltk_data]   Package punkt is already up-to-date!\n"
          ]
        }
      ],
      "source": [
        "#import libraries\n",
        "import sys\n",
        "import nltk\n",
        "nltk.download('stopwords')\n",
        "nltk.download('punkt')\n",
        "import sklearn\n",
        "import pandas\n",
        "import numpy"
      ]
    },
    {
      "cell_type": "code",
      "source": [
        "import pandas as pd\n",
        "import numpy as np\n",
        "\n",
        "# load the dataset of restaurant data\n",
        "df = pd.read_csv('swiggy888.csv')\n"
      ],
      "metadata": {
        "id": "edF3TWJyM-X9"
      },
      "execution_count": 72,
      "outputs": []
    },
    {
      "cell_type": "code",
      "source": [
        "df['Description']"
      ],
      "metadata": {
        "colab": {
          "base_uri": "https://localhost:8080/"
        },
        "id": "rCLYoIgQRnGl",
        "outputId": "8fd0b75c-73d8-48a5-e8a0-6bb66956519b"
      },
      "execution_count": 73,
      "outputs": [
        {
          "output_type": "execute_result",
          "data": {
            "text/plain": [
              "0       A traditional south Indian dessert made with ...\n",
              "1       Served with sambar and chutney. No soda, arti...\n",
              "2       Served with sambar and chutney. No soda, arti...\n",
              "3       Served with chutney. No soda, artificial colo...\n",
              "4       [medium size] served with only chutney. No so...\n",
              "                             ...                        \n",
              "592                                                     \n",
              "593                                                     \n",
              "594                                                     \n",
              "595                                                     \n",
              "596                                                     \n",
              "Name: Description, Length: 597, dtype: object"
            ]
          },
          "metadata": {},
          "execution_count": 73
        }
      ]
    },
    {
      "cell_type": "code",
      "source": [
        ""
      ],
      "metadata": {
        "id": "yyNDaOiDRnMs"
      },
      "execution_count": 74,
      "outputs": []
    },
    {
      "cell_type": "code",
      "source": [
        ""
      ],
      "metadata": {
        "id": "chd5XtdDS5Il"
      },
      "execution_count": 94,
      "outputs": []
    },
    {
      "cell_type": "code",
      "source": [
        "# # fill the NA values with fillna\n",
        "df = df.fillna(method = 'ffill')"
      ],
      "metadata": {
        "id": "gQ5VSs9zNikW"
      },
      "execution_count": 95,
      "outputs": []
    },
    {
      "cell_type": "code",
      "source": [
        "desc=df['Description']\n",
        "print(desc)"
      ],
      "metadata": {
        "colab": {
          "base_uri": "https://localhost:8080/"
        },
        "id": "KNbsbyq_NA3B",
        "outputId": "5ab509fe-0c49-4dfb-908a-1e8d26b7d997"
      },
      "execution_count": 96,
      "outputs": [
        {
          "output_type": "stream",
          "name": "stdout",
          "text": [
            "0       A traditional south Indian dessert made with ...\n",
            "1       Served with sambar and chutney. No soda, arti...\n",
            "2       Served with sambar and chutney. No soda, arti...\n",
            "3       Served with chutney. No soda, artificial colo...\n",
            "4       [medium size] served with only chutney. No so...\n",
            "                             ...                        \n",
            "592                                                     \n",
            "593                                                     \n",
            "594                                                     \n",
            "595                                                     \n",
            "596                                                     \n",
            "Name: Description, Length: 597, dtype: object\n"
          ]
        }
      ]
    },
    {
      "cell_type": "code",
      "source": [
        ""
      ],
      "metadata": {
        "id": "L0ueo0rMNYWY"
      },
      "execution_count": 96,
      "outputs": []
    },
    {
      "cell_type": "code",
      "source": [
        "# Remove punctuation\n",
        "processed = desc.str.replace(r'[^\\w\\d\\s]', ' ')\n",
        "\n",
        "# Replace whitespace between terms with a single space\n",
        "processed = processed.str.replace(r'\\s+', ' ')\n",
        "\n",
        "# Remove leading and trailing whitespace\n",
        "processed = processed.str.replace(r'\\s+', ' ')"
      ],
      "metadata": {
        "colab": {
          "base_uri": "https://localhost:8080/"
        },
        "id": "vw_48Q6aNG2Q",
        "outputId": "d8f48fee-5bea-4546-a4b0-ace96b917de4"
      },
      "execution_count": 97,
      "outputs": [
        {
          "output_type": "stream",
          "name": "stderr",
          "text": [
            "/usr/local/lib/python3.7/dist-packages/ipykernel_launcher.py:2: FutureWarning: The default value of regex will change from True to False in a future version.\n",
            "  \n",
            "/usr/local/lib/python3.7/dist-packages/ipykernel_launcher.py:5: FutureWarning: The default value of regex will change from True to False in a future version.\n",
            "  \"\"\"\n",
            "/usr/local/lib/python3.7/dist-packages/ipykernel_launcher.py:8: FutureWarning: The default value of regex will change from True to False in a future version.\n",
            "  \n"
          ]
        }
      ]
    },
    {
      "cell_type": "code",
      "source": [
        "# change words to lower case - Hello, HELLO, hello are all the same word\n",
        "processed = processed.str.lower()\n",
        "print(processed)"
      ],
      "metadata": {
        "colab": {
          "base_uri": "https://localhost:8080/"
        },
        "id": "RU6LlSuTNHZz",
        "outputId": "bb9dc97f-6da6-4e8f-995f-38d270d17456"
      },
      "execution_count": 98,
      "outputs": [
        {
          "output_type": "stream",
          "name": "stdout",
          "text": [
            "0       a traditional south indian dessert made with ...\n",
            "1       served with sambar and chutney no soda artifi...\n",
            "2       served with sambar and chutney no soda artifi...\n",
            "3       served with chutney no soda artificial colour...\n",
            "4       medium size served with only chutney no soda ...\n",
            "                             ...                        \n",
            "592                                                     \n",
            "593                                                     \n",
            "594                                                     \n",
            "595                                                     \n",
            "596                                                     \n",
            "Name: Description, Length: 597, dtype: object\n"
          ]
        }
      ]
    },
    {
      "cell_type": "code",
      "source": [
        "from nltk.corpus import stopwords\n",
        "\n",
        "# remove stop words from text messages\n",
        "\n",
        "stop_words = set(stopwords.words('english'))\n",
        "\n",
        "processed = processed.apply(lambda x: ' '.join(term for term in x.split() if term not in stop_words))"
      ],
      "metadata": {
        "id": "RPIHiC61NJEs"
      },
      "execution_count": 99,
      "outputs": []
    },
    {
      "cell_type": "code",
      "source": [
        "from nltk.tokenize import word_tokenize\n",
        "\n",
        "# create bag-of-words\n",
        "all_words = []\n",
        "\n",
        "for message in processed:\n",
        "    words = word_tokenize(message)\n",
        "    for w in words:\n",
        "        all_words.append(w)\n",
        "        \n",
        "all_words = nltk.FreqDist(all_words)\n",
        "all_words"
      ],
      "metadata": {
        "colab": {
          "base_uri": "https://localhost:8080/"
        },
        "id": "z9kY_auTNKvF",
        "outputId": "313dcb98-55c4-4a8b-a036-9c7dd50667a4"
      },
      "execution_count": 100,
      "outputs": [
        {
          "output_type": "execute_result",
          "data": {
            "text/plain": [
              "FreqDist({'1': 35,\n",
              "          '2': 12,\n",
              "          '200': 8,\n",
              "          '250': 3,\n",
              "          '2pc': 3,\n",
              "          '2pcs': 9,\n",
              "          '3': 10,\n",
              "          '3pcs': 4,\n",
              "          '4': 11,\n",
              "          '41': 1,\n",
              "          '8': 5,\n",
              "          '9pc': 1,\n",
              "          'absolutely': 1,\n",
              "          'accompanied': 3,\n",
              "          'add': 3,\n",
              "          'ajinomoto': 10,\n",
              "          'along': 7,\n",
              "          'aloo': 19,\n",
              "          'appetizing': 4,\n",
              "          'artificial': 35,\n",
              "          'asking': 1,\n",
              "          'balances': 1,\n",
              "          'base': 15,\n",
              "          'based': 1,\n",
              "          'bath': 1,\n",
              "          'best': 4,\n",
              "          'biryani': 2,\n",
              "          'boondi': 1,\n",
              "          'bowl': 2,\n",
              "          'box': 1,\n",
              "          'butter': 3,\n",
              "          'buttermilk': 12,\n",
              "          'cauliflower': 1,\n",
              "          'chapati': 2,\n",
              "          'chef': 1,\n",
              "          'chemical': 25,\n",
              "          'chemicals': 10,\n",
              "          'chillies': 7,\n",
              "          'choice': 9,\n",
              "          'choose': 13,\n",
              "          'chucks': 1,\n",
              "          'chutney': 25,\n",
              "          'classic': 7,\n",
              "          'coconut': 8,\n",
              "          'coffee': 3,\n",
              "          'colour': 25,\n",
              "          'colours': 10,\n",
              "          'combination': 14,\n",
              "          'combine': 1,\n",
              "          'combo': 10,\n",
              "          'complement': 12,\n",
              "          'complemented': 4,\n",
              "          'complements': 1,\n",
              "          'complete': 8,\n",
              "          'complimented': 3,\n",
              "          'cooked': 16,\n",
              "          'creamiest': 1,\n",
              "          'creamy': 21,\n",
              "          'crispy': 3,\n",
              "          'cubes': 5,\n",
              "          'curd': 24,\n",
              "          'curry': 15,\n",
              "          'cut': 2,\n",
              "          'dal': 25,\n",
              "          'day': 5,\n",
              "          'delicious': 28,\n",
              "          'delish': 3,\n",
              "          'dessert': 17,\n",
              "          'dish': 1,\n",
              "          'dishes': 1,\n",
              "          'divine': 8,\n",
              "          'dosa': 3,\n",
              "          'dry': 3,\n",
              "          'dum': 1,\n",
              "          'either': 12,\n",
              "          'enhanced': 2,\n",
              "          'favorite': 11,\n",
              "          'favourite': 4,\n",
              "          'filter': 3,\n",
              "          'finished': 1,\n",
              "          'flavored': 2,\n",
              "          'flavors': 2,\n",
              "          'flavourful': 2,\n",
              "          'fluffy': 11,\n",
              "          'fresh': 1,\n",
              "          'freshly': 1,\n",
              "          'full': 1,\n",
              "          'garnished': 7,\n",
              "          'ghee': 3,\n",
              "          'glass': 4,\n",
              "          'gobhi': 10,\n",
              "          'gobi': 1,\n",
              "          'goes': 6,\n",
              "          'goodness': 2,\n",
              "          'gravy': 15,\n",
              "          'gravys': 1,\n",
              "          'green': 8,\n",
              "          'gulab': 1,\n",
              "          'healthy': 16,\n",
              "          'herbs': 1,\n",
              "          'hint': 2,\n",
              "          'home': 5,\n",
              "          'hot': 11,\n",
              "          'idli': 4,\n",
              "          'inch': 2,\n",
              "          'inches': 3,\n",
              "          'indian': 4,\n",
              "          'ingredients': 1,\n",
              "          'jaggery': 3,\n",
              "          'jamun': 1,\n",
              "          'juicy': 4,\n",
              "          'khara': 1,\n",
              "          'leave': 1,\n",
              "          'leaves': 8,\n",
              "          'lentils': 1,\n",
              "          'light': 13,\n",
              "          'made': 8,\n",
              "          'make': 3,\n",
              "          'masala': 17,\n",
              "          'matar': 3,\n",
              "          'matches': 1,\n",
              "          'meal': 33,\n",
              "          'medium': 4,\n",
              "          'mellow': 3,\n",
              "          'mix': 6,\n",
              "          'mixed': 1,\n",
              "          'ml': 11,\n",
              "          'mouthwatering': 4,\n",
              "          'msg': 10,\n",
              "          'nuts': 7,\n",
              "          'oil': 1,\n",
              "          'onion': 9,\n",
              "          'onions': 1,\n",
              "          'pair': 3,\n",
              "          'paired': 2,\n",
              "          'palya': 2,\n",
              "          'paneer': 30,\n",
              "          'papad': 3,\n",
              "          'paratha': 19,\n",
              "          'parathas': 1,\n",
              "          'pc': 12,\n",
              "          'pcs': 3,\n",
              "          'peas': 1,\n",
              "          'perfect': 19,\n",
              "          'perfection': 2,\n",
              "          'perfectly': 15,\n",
              "          'phulkas': 11,\n",
              "          'pickle': 18,\n",
              "          'plain': 9,\n",
              "          'plate': 4,\n",
              "          'plates': 6,\n",
              "          'platter': 2,\n",
              "          'poori': 1,\n",
              "          'popular': 1,\n",
              "          'potatoes': 1,\n",
              "          'preparation': 37,\n",
              "          'presenting': 2,\n",
              "          'raita': 4,\n",
              "          'rasam': 2,\n",
              "          'refreshing': 1,\n",
              "          'remind': 5,\n",
              "          'rice': 42,\n",
              "          'rich': 4,\n",
              "          'roasted': 1,\n",
              "          'room': 1,\n",
              "          'roti': 3,\n",
              "          'rotis': 9,\n",
              "          'saagu': 5,\n",
              "          'salad': 2,\n",
              "          'sambar': 10,\n",
              "          'sambhar': 1,\n",
              "          'satisfaction': 1,\n",
              "          'sauted': 1,\n",
              "          'save': 1,\n",
              "          'send': 4,\n",
              "          'serve': 4,\n",
              "          'served': 62,\n",
              "          'serves': 44,\n",
              "          'side': 6,\n",
              "          'signature': 1,\n",
              "          'simmered': 1,\n",
              "          'single': 2,\n",
              "          'size': 4,\n",
              "          'sizzling': 15,\n",
              "          'soda': 25,\n",
              "          'soft': 5,\n",
              "          'soothing': 7,\n",
              "          'south': 3,\n",
              "          'special': 8,\n",
              "          'spiced': 1,\n",
              "          'spices': 3,\n",
              "          'spicy': 19,\n",
              "          'steam': 2,\n",
              "          'steamy': 4,\n",
              "          'stuffed': 3,\n",
              "          'stuffing': 3,\n",
              "          'sweet': 4,\n",
              "          'tadka': 17,\n",
              "          'tangy': 4,\n",
              "          'tasty': 14,\n",
              "          'tawa': 1,\n",
              "          'temperature': 1,\n",
              "          'tempered': 2,\n",
              "          'tempering': 1,\n",
              "          'time': 5,\n",
              "          'toasted': 4,\n",
              "          'tomato': 4,\n",
              "          'tomatoes': 1,\n",
              "          'tossed': 1,\n",
              "          'traditional': 3,\n",
              "          'two': 11,\n",
              "          'used': 35,\n",
              "          'vada': 4,\n",
              "          'veg': 2,\n",
              "          'vegetables': 1,\n",
              "          'vegetarian': 2,\n",
              "          'veggie': 2,\n",
              "          'veggies': 1,\n",
              "          'vooshified': 1,\n",
              "          'white': 8,\n",
              "          'zingy': 3})"
            ]
          },
          "metadata": {},
          "execution_count": 100
        }
      ]
    },
    {
      "cell_type": "code",
      "source": [
        "# print the total number of words and the1 most common word\n",
        "print('Number of words: {}'.format(len(all_words)))\n",
        "print('Most common words: {}'.format(all_words.most_common(1)))"
      ],
      "metadata": {
        "colab": {
          "base_uri": "https://localhost:8080/"
        },
        "id": "jIMXFohpNqQA",
        "outputId": "081881c1-c0d3-4713-ab05-a0e8ee6fd099"
      },
      "execution_count": 101,
      "outputs": [
        {
          "output_type": "stream",
          "name": "stdout",
          "text": [
            "Number of words: 221\n",
            "Most common words: [('served', 62)]\n"
          ]
        }
      ]
    },
    {
      "cell_type": "code",
      "source": [
        "df.sort_values('Item Category', inplace=True)\n",
        "df.reset_index(inplace=True, drop=True)\n",
        "sum(list(df[df['Item Category']=='Recommended']['Price']))/len(list(df[df['Item Category']=='Recommended']['Price']))"
      ],
      "metadata": {
        "colab": {
          "base_uri": "https://localhost:8080/"
        },
        "id": "6yeIY4rXNuiJ",
        "outputId": "877cef42-b7c9-4811-bcb6-254c117805e9"
      },
      "execution_count": 102,
      "outputs": [
        {
          "output_type": "execute_result",
          "data": {
            "text/plain": [
              "198.70514285714262"
            ]
          },
          "metadata": {},
          "execution_count": 102
        }
      ]
    },
    {
      "cell_type": "code",
      "source": [
        "price_dict={}\n",
        "for i in list(set(df['Item Category'])):\n",
        "  temp = list(df[df['Item Category']==i]['Price'])\n",
        "  price_dict[i]=round(sum(temp)/len(temp),2)"
      ],
      "metadata": {
        "id": "mcBkkIwQPojg"
      },
      "execution_count": 103,
      "outputs": []
    },
    {
      "cell_type": "markdown",
      "source": [
        "### Compare the average price of each category in data"
      ],
      "metadata": {
        "id": "dpkvd2NsY-0A"
      }
    },
    {
      "cell_type": "code",
      "source": [
        "price_dict"
      ],
      "metadata": {
        "colab": {
          "base_uri": "https://localhost:8080/"
        },
        "id": "zUNXs4jaQygp",
        "outputId": "b6a0d0a5-5b0a-4f4c-ec56-ffb3365456a5"
      },
      "execution_count": 104,
      "outputs": [
        {
          "output_type": "execute_result",
          "data": {
            "text/plain": [
              "{'Accompaniments': 51.0,\n",
              " 'Bakery': 184.32,\n",
              " 'Breads and Rice': 79.0,\n",
              " 'Chat': 90.47,\n",
              " 'Chat Specialties': 84.5,\n",
              " 'Chinese Starter': 213.59,\n",
              " 'Coffee Powder': 71.43,\n",
              " 'Cold Beverages': 103.0,\n",
              " 'Combos': 288.0,\n",
              " 'Continental': 81.0,\n",
              " 'Curries': 167.2,\n",
              " 'Dahi Items': 94.0,\n",
              " 'Desserts': 58.0,\n",
              " 'Dosa Varieties': 104.44,\n",
              " 'Dry & Gravy': 214.78,\n",
              " 'Festival Season Special': 154.0,\n",
              " 'Fresh Juice': 98.06,\n",
              " 'Fried Rice': 194.8,\n",
              " 'Hot Beverages': 195.5,\n",
              " 'Idly Varieties': 54.0,\n",
              " 'Lunch': 129.67,\n",
              " 'Lunch Special': 84.0,\n",
              " 'Meals for 1 person': 199.0,\n",
              " 'Meals for 2 person(1+1 Thalis)': 291.22,\n",
              " 'Milk Shakes': 106.41,\n",
              " 'Mini Meals': 155.0,\n",
              " 'Noodles': 189.64,\n",
              " 'North Indian Combos': 201.0,\n",
              " 'Packed - Savouries': 130.55,\n",
              " 'Pav Bhaji': 106.67,\n",
              " 'Pickles': 213.17,\n",
              " 'Pizzas': 144.0,\n",
              " 'Recommeded': 145.82,\n",
              " 'Recommended': 198.71,\n",
              " 'Rice': 228.4,\n",
              " 'Rice Bowl for 1 person': 209.0,\n",
              " 'Rice Mixes': 207.36,\n",
              " 'Sandwich': 99.83,\n",
              " 'Savouries - Cashew Items': 264.51,\n",
              " 'Soups': 130.86,\n",
              " 'South Indian': 115.5,\n",
              " 'Specials': 154.0,\n",
              " 'Starters': 224.67,\n",
              " 'Stuffed Paratha Meal for 1 Person': 191.0,\n",
              " 'Subjees': 202.03,\n",
              " 'Sweets': 184.69,\n",
              " 'Tandoori Bread': 68.21,\n",
              " 'Tandoori Varieties': 235.2,\n",
              " 'Tea&cups': 249.93,\n",
              " 'Weekend Bonanza Savings': 258.0}"
            ]
          },
          "metadata": {},
          "execution_count": 104
        }
      ]
    },
    {
      "cell_type": "markdown",
      "source": [
        "### Visualization"
      ],
      "metadata": {
        "id": "bvLLDNnPZELL"
      }
    },
    {
      "cell_type": "code",
      "source": [
        "import matplotlib.pyplot as plt"
      ],
      "metadata": {
        "id": "ABAcN_KlQz3U"
      },
      "execution_count": 81,
      "outputs": []
    },
    {
      "cell_type": "code",
      "source": [
        "x = df['Dish_name'].head(15)\n",
        "y = df['Price'].head(15)"
      ],
      "metadata": {
        "id": "e6zi6CKkRZYI"
      },
      "execution_count": 93,
      "outputs": []
    },
    {
      "cell_type": "code",
      "source": [
        "# Horizontal Bar Plot\n",
        "fig = plt.figure()\n",
        "ax = fig.add_axes([0,0,1,1])\n",
        "ax.barh(x, y)\n",
        " \n",
        "# Show Plot\n",
        "plt.show()"
      ],
      "metadata": {
        "colab": {
          "base_uri": "https://localhost:8080/",
          "height": 336
        },
        "id": "RzIalQXoSa5K",
        "outputId": "8c0dcb9a-3651-42ec-a8af-ada94c2ac07f"
      },
      "execution_count": 94,
      "outputs": [
        {
          "output_type": "display_data",
          "data": {
            "image/png": "[encoded data removed]",
            "text/plain": [
              "<Figure size 432x288 with 1 Axes>"
            ]
          },
          "metadata": {
            "needs_background": "light"
          }
        }
      ]
    },
    {
      "cell_type": "markdown",
      "source": [
        "Q7: Ask if we add image urls, and have images -> Now to find out whether the image is related to the item name -> what will be your approach\n",
        "\n",
        "Ans:\n",
        "\n",
        "We will do custom object detection on the image dataset. We will extract main words from item name and give those words as lables to image data set and train a model to predict what the image is."
      ],
      "metadata": {
        "id": "wBb7CK4fZIvY"
      }
    },
    {
      "cell_type": "code",
      "source": [
        ""
      ],
      "metadata": {
        "id": "pbkEkPxkV0VY"
      },
      "execution_count": null,
      "outputs": []
    }
  ]
}